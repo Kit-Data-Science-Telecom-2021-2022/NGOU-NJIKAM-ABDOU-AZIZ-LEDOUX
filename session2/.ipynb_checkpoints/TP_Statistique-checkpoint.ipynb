{
 "cells": [
  {
   "cell_type": "code",
   "execution_count": 24,
   "id": "8ca4544a",
   "metadata": {},
   "outputs": [],
   "source": [
    "import math\n",
    "import numpy as np\n",
    "from sklearn import linear_model\n",
    "from os import mkdir"
   ]
  },
  {
   "cell_type": "code",
   "execution_count": null,
   "id": "855ae283",
   "metadata": {},
   "outputs": [],
   "source": [
    "def nextpower(n)\n",
    "    p = 1\n",
    "    for i in range(n)\n",
    "        p = p*2\n",
    "        if p >= n\n",
    "         "
   ]
  },
  {
   "cell_type": "code",
   "execution_count": 8,
   "id": "a4d778db",
   "metadata": {},
   "outputs": [
    {
     "data": {
      "text/plain": [
       "['c', 'f', 'i', 'l', 'o', 'r', 'u', 'x']"
      ]
     },
     "execution_count": 8,
     "metadata": {},
     "output_type": "execute_result"
    }
   ],
   "source": [
    "mot = ['a','b','c','d','e','f','g','h','i','j','k','l','m','n','o','p','q','r','s','t','u','v','w','x','y','z']\n",
    "mot[2:24:3]"
   ]
  },
  {
   "cell_type": "code",
   "execution_count": 15,
   "id": "98d55044",
   "metadata": {},
   "outputs": [
    {
     "name": "stdout",
     "output_type": "stream",
     "text": [
      "cfilorux\n"
     ]
    }
   ],
   "source": [
    "mot = 'abcdefghijklmnopqrstuvwxyz' \n",
    "print(mot[2:24:3])"
   ]
  },
  {
   "cell_type": "code",
   "execution_count": 18,
   "id": "6b89771e",
   "metadata": {},
   "outputs": [
    {
     "name": "stdout",
     "output_type": "stream",
     "text": [
      "vxz\n"
     ]
    }
   ],
   "source": [
    "print(mot[21:26:2])"
   ]
  },
  {
   "cell_type": "code",
   "execution_count": 22,
   "id": "5f441a1d",
   "metadata": {},
   "outputs": [
    {
     "name": "stdout",
     "output_type": "stream",
     "text": [
      "vxz\n"
     ]
    }
   ],
   "source": [
    "mot = 'v'+'x'+'z'\n",
    "print(mot)"
   ]
  },
  {
   "cell_type": "code",
   "execution_count": 26,
   "id": "264a8195",
   "metadata": {},
   "outputs": [
    {
     "name": "stdout",
     "output_type": "stream",
     "text": [
      "3.141592654\n"
     ]
    }
   ],
   "source": [
    "from math import pi\n",
    "print(\"%.9f\"%pi)"
   ]
  },
  {
   "cell_type": "code",
   "execution_count": 8,
   "id": "ceec0421",
   "metadata": {},
   "outputs": [],
   "source": [
    "#Question 4- premiere methode\n",
    "from collections import defaultdict\n",
    "\n",
    "s = 'HelLo WorLd!!'\n",
    "chars = defaultdict(int)\n",
    "\n",
    "for char in s :\n",
    "    chars[char] += 1   "
   ]
  },
  {
   "cell_type": "code",
   "execution_count": 9,
   "id": "824b347f",
   "metadata": {},
   "outputs": [
    {
     "data": {
      "text/plain": [
       "{'H': 1, 'e': 1, 'l': 3, 'o': 2, ' ': 1, 'W': 1, 'r': 2, 'd': 1, '!': 2}"
      ]
     },
     "execution_count": 9,
     "metadata": {},
     "output_type": "execute_result"
    }
   ],
   "source": [
    "#Question 4- deuxieme methode\n",
    "def check_freq(str):\n",
    "    freq = {}\n",
    "    for c in str:\n",
    "       freq[c] = str.count(c)\n",
    "    return freq\n",
    "\n",
    "check_freq(\"Hello Worrld!!\")"
   ]
  },
  {
   "cell_type": "code",
   "execution_count": 11,
   "id": "a57a91b9",
   "metadata": {},
   "outputs": [
    {
     "ename": "NameError",
     "evalue": "name 'liste' is not defined",
     "output_type": "error",
     "traceback": [
      "\u001b[1;31m---------------------------------------------------------------------------\u001b[0m",
      "\u001b[1;31mNameError\u001b[0m                                 Traceback (most recent call last)",
      "\u001b[1;32m<ipython-input-11-e00d9e18130e>\u001b[0m in \u001b[0;36m<module>\u001b[1;34m\u001b[0m\n\u001b[0;32m      3\u001b[0m     \u001b[0malphabetcod\u001b[0m\u001b[1;33m=\u001b[0m\u001b[1;33m[\u001b[0m\u001b[1;33m]\u001b[0m\u001b[1;33m\u001b[0m\u001b[1;33m\u001b[0m\u001b[0m\n\u001b[0;32m      4\u001b[0m     \u001b[0mprint\u001b[0m\u001b[1;33m(\u001b[0m\u001b[1;34m\"alphabet:\"\u001b[0m\u001b[1;33m,\u001b[0m \u001b[0malphabet\u001b[0m\u001b[1;33m)\u001b[0m\u001b[1;33m\u001b[0m\u001b[1;33m\u001b[0m\u001b[0m\n\u001b[1;32m----> 5\u001b[1;33m \u001b[0mrandom\u001b[0m\u001b[1;33m.\u001b[0m\u001b[0mshuffle\u001b[0m\u001b[1;33m(\u001b[0m\u001b[0mliste\u001b[0m\u001b[1;33m)\u001b[0m\u001b[1;33m\u001b[0m\u001b[1;33m\u001b[0m\u001b[0m\n\u001b[0m\u001b[0;32m      6\u001b[0m \u001b[0mprint\u001b[0m\u001b[1;33m(\u001b[0m\u001b[1;34m\"la nouvelle liste:\"\u001b[0m\u001b[1;33m,\u001b[0m \u001b[0malphabet\u001b[0m\u001b[1;33m)\u001b[0m\u001b[1;33m\u001b[0m\u001b[1;33m\u001b[0m\u001b[0m\n\u001b[0;32m      7\u001b[0m     \u001b[1;31m#for i in range(0,25):\u001b[0m\u001b[1;33m\u001b[0m\u001b[1;33m\u001b[0m\u001b[1;33m\u001b[0m\u001b[0m\n",
      "\u001b[1;31mNameError\u001b[0m: name 'liste' is not defined"
     ]
    }
   ],
   "source": [
    "import random\n",
    "def inversion_de_lettre(alphabet,dec):\n",
    "    alphabetcod=[]\n",
    "    print(\"alphabet:\", alphabet)\n",
    "random.shuffle(liste)\n",
    "print(\"la nouvelle liste:\", alphabet)\n",
    "    #for i in range(0,25):\n",
    "     #   alphabet=alphabet[i]+dec\n",
    "    #return alphabetcod"
   ]
  },
  {
   "cell_type": "code",
   "execution_count": 12,
   "id": "f039db5e",
   "metadata": {},
   "outputs": [
    {
     "name": "stdout",
     "output_type": "stream",
     "text": [
      "liste originale: ['a', 'b', 'c', 'd', 'e', 'f', 'g', 'h', 'i', 'j', 'k', 'l', 'm', 'n', 'o', 'p', 'q', 'r', 's', 't', 'u', 'v', 'w', 'x', 'y', 'z']\n",
      "la nouvelle liste: ['l', 'f', 'w', 'i', 'q', 'm', 'y', 'b', 'z', 'a', 'u', 'h', 'r', 'j', 'd', 'c', 'v', 'n', 'o', 'k', 'e', 's', 't', 'x', 'g', 'p']\n"
     ]
    }
   ],
   "source": [
    "import random\n",
    "liste = ['a','b','c','d','e','f','g','h','i','j','k','l','m','n','o','p','q','r','s','t','u','v','w','x','y','z']\n",
    "print(\"liste originale:\", liste)\n",
    "random.shuffle(liste)\n",
    "print(\"la nouvelle liste:\", liste)"
   ]
  },
  {
   "cell_type": "code",
   "execution_count": 19,
   "id": "0954ad6d",
   "metadata": {},
   "outputs": [
    {
     "name": "stdout",
     "output_type": "stream",
     "text": [
      "{'a': 'l', 'b': 'f', 'c': 'w', 'd': 'i', 'e': 'q', 'f': 'm', 'g': 'y', 'h': 'b', 'i': 'z', 'j': 'a', 'k': 'u', 'l': 'h', 'm': 'r', 'n': 'j', 'o': 'd', 'p': 'c', 'q': 'v', 'r': 'n', 's': 'o', 't': 'k', 'u': 'e', 'v': 's', 'w': 't', 'x': 'x', 'y': 'g', 'z': 'p'}\n"
     ]
    }
   ],
   "source": [
    "#J'ai creer un dictionnaire qui prend les elements de la premiere liste comme une cle et ceux de la deuxieme liste en valeur\n",
    "liste_originale = ['a', 'b', 'c', 'd', 'e', 'f', 'g', 'h', 'i', 'j', 'k', 'l', 'm', 'n', 'o', 'p', 'q', 'r', 's', 't', 'u', 'v', 'w', 'x', 'y', 'z']\n",
    "nouvelle_liste = ['l', 'f', 'w', 'i', 'q', 'm', 'y', 'b', 'z', 'a', 'u', 'h', 'r', 'j', 'd', 'c', 'v', 'n', 'o', 'k', 'e', 's', 't', 'x', 'g', 'p']\n",
    "dict_from_list = dict(zip(liste_originale, nouvelle_liste))\n",
    "print(dict_from_list)"
   ]
  },
  {
   "cell_type": "code",
   "execution_count": 22,
   "id": "3248911c",
   "metadata": {},
   "outputs": [
    {
     "ename": "IndentationError",
     "evalue": "expected an indented block (<ipython-input-22-9c62d780143b>, line 2)",
     "output_type": "error",
     "traceback": [
      "\u001b[1;36m  File \u001b[1;32m\"<ipython-input-22-9c62d780143b>\"\u001b[1;36m, line \u001b[1;32m2\u001b[0m\n\u001b[1;33m    for lettre in mot\u001b[0m\n\u001b[1;37m    ^\u001b[0m\n\u001b[1;31mIndentationError\u001b[0m\u001b[1;31m:\u001b[0m expected an indented block\n"
     ]
    }
   ],
   "source": [
    "def codage (dict_from_list, mot):\n",
    "for lettre in mot "
   ]
  },
  {
   "cell_type": "code",
   "execution_count": 33,
   "id": "6694f251",
   "metadata": {},
   "outputs": [
    {
     "name": "stdout",
     "output_type": "stream",
     "text": [
      "3.1415141108281714\n"
     ]
    }
   ],
   "source": [
    "# Question 6\n",
    "import time\n",
    "\n",
    "%timeit\n",
    "def f(k):\n",
    "    k1 = 4*k**2#math.pow(k,2)\n",
    "    return k1/(k1-1)\n",
    "x = np.array([f(i) for i in range (1,10000,1)])\n",
    "print(2 * np.prod(x))\n"
   ]
  },
  {
   "cell_type": "code",
   "execution_count": 28,
   "id": "e915dcb0",
   "metadata": {},
   "outputs": [
    {
     "ename": "SyntaxError",
     "evalue": "invalid syntax (<ipython-input-28-52e5b966450e>, line 5)",
     "output_type": "error",
     "traceback": [
      "\u001b[1;36m  File \u001b[1;32m\"<ipython-input-28-52e5b966450e>\"\u001b[1;36m, line \u001b[1;32m5\u001b[0m\n\u001b[1;33m    for k in range (1, n+1)\u001b[0m\n\u001b[1;37m                           ^\u001b[0m\n\u001b[1;31mSyntaxError\u001b[0m\u001b[1;31m:\u001b[0m invalid syntax\n"
     ]
    }
   ],
   "source": [
    "#Question-6 avec boucle\n",
    "#On initialise a 2\n",
    "def calcul(n):\n",
    "    res = 2\n",
    "    for k in range (1, n+1)\n",
    "        res = 4*k**2/(4*k**2-1)\n",
    "    return res"
   ]
  },
  {
   "cell_type": "code",
   "execution_count": 34,
   "id": "49c48a37",
   "metadata": {},
   "outputs": [],
   "source": [
    "#Question-6 sans boucle\n",
    "#On initialise a 2\n",
    "def calcul(n):\n",
    "    l = np.array (1, n+1)\n",
    "    l = 4*l**2\n",
    "    l = l/(l-1)\n",
    "    return 2* np.mod(l)"
   ]
  },
  {
   "cell_type": "code",
   "execution_count": null,
   "id": "ce28a101",
   "metadata": {},
   "outputs": [],
   "source": []
  }
 ],
 "metadata": {
  "kernelspec": {
   "display_name": "Python 3",
   "language": "python",
   "name": "python3"
  },
  "language_info": {
   "codemirror_mode": {
    "name": "ipython",
    "version": 3
   },
   "file_extension": ".py",
   "mimetype": "text/x-python",
   "name": "python",
   "nbconvert_exporter": "python",
   "pygments_lexer": "ipython3",
   "version": "3.8.8"
  }
 },
 "nbformat": 4,
 "nbformat_minor": 5
}
